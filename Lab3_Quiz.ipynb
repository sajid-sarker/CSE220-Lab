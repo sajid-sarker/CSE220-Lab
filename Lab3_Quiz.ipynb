{
  "nbformat": 4,
  "nbformat_minor": 0,
  "metadata": {
    "colab": {
      "provenance": [],
      "include_colab_link": true
    },
    "kernelspec": {
      "name": "python3",
      "display_name": "Python 3"
    },
    "language_info": {
      "name": "python"
    }
  },
  "cells": [
    {
      "cell_type": "markdown",
      "metadata": {
        "id": "view-in-github",
        "colab_type": "text"
      },
      "source": [
        "<a href=\"https://colab.research.google.com/github/sajid-sarker/CSE220-Lab/blob/main/Lab3_Quiz.ipynb\" target=\"_parent\"><img src=\"https://colab.research.google.com/assets/colab-badge.svg\" alt=\"Open In Colab\"/></a>"
      ]
    },
    {
      "cell_type": "code",
      "execution_count": null,
      "metadata": {
        "id": "g8Zs498mTxoD",
        "colab": {
          "base_uri": "https://localhost:8080/"
        },
        "outputId": "3573f8c4-87df-4c91-db40-6f438a57cb81"
      },
      "outputs": [
        {
          "output_type": "stream",
          "name": "stdout",
          "text": [
            "TEST CASE 1:\n",
            "[[ 3 -9  7  0]\n",
            " [ 3  7 -1  6]\n",
            " [ 4 19  2  0]\n",
            " [ 0  7 -3  4]]\n",
            "The sum of the each row: [ 1 15 25  8]\n",
            "The sum of the each column: [10 24  5 10]\n",
            "_________________________\n",
            "****invalid******\n",
            "_________________________\n",
            "TEST CASE 2:\n",
            "[[ 1  2  7  0]\n",
            " [ 3  5  2  6]\n",
            " [ 4  2  0  0]\n",
            " [ 2  7 -3  4]]\n",
            "The sum of the each row: [10 16  6 10]\n",
            "The sum of the each column: [10 16  6 10]\n",
            "_________________________\n",
            "****valid******\n",
            "_________________________\n",
            "TEST CASE 3:\n",
            "[[ 3  2  7  0]\n",
            " [ 3  7  2  6]\n",
            " [ 4  2  2  0]\n",
            " [ 2  7 -3  6]]\n",
            "The sum of the each row: [12 18  8 12]\n",
            "The sum of the each column: [12 18  8 12]\n",
            "_________________________\n",
            "****valid******\n",
            "_________________________\n"
          ]
        }
      ],
      "source": [
        "import numpy as np\n",
        "def print_result(flag,a,b):\n",
        "  print(\"The sum of the each row:\",a)\n",
        "  print(\"The sum of the each column:\",b)\n",
        "  print(\"_________________________\")\n",
        "  if flag:\n",
        "    print(\"****valid******\")\n",
        "  else:\n",
        "    print(\"****invalid******\")\n",
        "  print(\"_________________________\")\n",
        "\n",
        "def Balance(arr):\n",
        "  row, col = arr.shape\n",
        "\n",
        "  row_sum= np.array([0]*row)#initialize your own numpy array\n",
        "  col_sum= np.array([0]*col)#initialize on your own numpy array\n",
        "  flag = True ## Denote True as balanced and False for unbalanced\n",
        "\n",
        "  for r in range(row):\n",
        "    sum = 0\n",
        "    for c in range(col):\n",
        "      sum += arr[r][c]\n",
        "    row_sum[r] = sum\n",
        "\n",
        "  for c in range(col):\n",
        "    sum = 0\n",
        "    for r in range(row):\n",
        "      sum += arr[r][c]\n",
        "    col_sum[c] = sum\n",
        "\n",
        "  for i in range(row):\n",
        "    if row_sum[i] != col_sum[i]:\n",
        "      flag = False\n",
        "      break\n",
        "\n",
        "  ##your code\n",
        "\n",
        "  return flag,row_sum,col_sum\n",
        "\n",
        "\n",
        "\n",
        "\n",
        "###DRIVER CODE\n",
        "##TEST1\n",
        "arr= np.array([[3,-9,7,0],\n",
        "              [3,7,-1,6],\n",
        "              [4,19,2,0],\n",
        "              [0,7,-3,4]])\n",
        "print(\"TEST CASE 1:\", arr,sep=\"\\n\")\n",
        "output_boolean,row_sum,col_sum = Balance(arr)\n",
        "print_result(output_boolean,row_sum,col_sum)\n",
        "\n",
        "##TEST2\n",
        "arr= np.array([[1,2,7,0],\n",
        "               [3,5,2,6],\n",
        "               [4,2,0,0],\n",
        "               [2,7,-3,4]])\n",
        "\n",
        "print(\"TEST CASE 2:\", arr,sep=\"\\n\")\n",
        "output_boolean,row_sum,col_sum = Balance(arr)\n",
        "print_result(output_boolean,row_sum,col_sum)\n",
        "\n",
        "##TEST3\n",
        "arr= np.array([[3,2,7,0],\n",
        "               [3,7,2,6],\n",
        "               [4,2,2,0],\n",
        "              [2,7,-3,6]])\n",
        "print(\"TEST CASE 3:\", arr,sep=\"\\n\")\n",
        "output_boolean,row_sum,col_sum = Balance(arr)\n",
        "print_result(output_boolean,row_sum,col_sum)"
      ]
    }
  ]
}