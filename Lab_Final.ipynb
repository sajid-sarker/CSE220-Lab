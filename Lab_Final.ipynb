{
  "nbformat": 4,
  "nbformat_minor": 0,
  "metadata": {
    "colab": {
      "provenance": []
    },
    "kernelspec": {
      "name": "python3",
      "display_name": "Python 3"
    },
    "language_info": {
      "name": "python"
    }
  },
  "cells": [
    {
      "cell_type": "code",
      "execution_count": null,
      "metadata": {
        "id": "v3hjnGjTFwiI"
      },
      "outputs": [],
      "source": [
        "class BTNode:\n",
        "  def __init__(self, elem):\n",
        "    self.elem = elem\n",
        "    self.right = None\n",
        "    self.left = None"
      ]
    },
    {
      "cell_type": "code",
      "source": [
        "def inorder(root):\n",
        "  if root != None:\n",
        "    inorder(root.left)\n",
        "    print(root.elem, end=\" \")\n",
        "    inorder(root.right)"
      ],
      "metadata": {
        "id": "dNLdhARQGA4Y"
      },
      "execution_count": null,
      "outputs": []
    },
    {
      "cell_type": "code",
      "source": [
        "def tree_maker(arr=None,i=0,n=0):\n",
        "  root = None\n",
        "  if i < n:\n",
        "    if arr[i] != None:\n",
        "      root = BTNode(arr[i])\n",
        "      root.left = tree_maker(arr, 2*i, n)\n",
        "      root.right = tree_maker(arr, 2*i+1, n)\n",
        "  #you can use linked list and add each item manually if you want or use array representation\n",
        "  return root"
      ],
      "metadata": {
        "id": "kLft_8x4GFeM"
      },
      "execution_count": null,
      "outputs": []
    },
    {
      "cell_type": "code",
      "source": [
        "##Q1 and Q2 check here\n",
        "arr = [None] * 28\n",
        "arr[1], arr[2], arr[3], arr[4], arr[5], arr[6], arr[7] = \"A\", \"B\", \"C\", \".txt\", \".txt\", \"D\", \".txt\"\n",
        "arr[12], arr[13] = \".txt\", \"E\"\n",
        "arr[27] = \".txt\"\n",
        "root = tree_maker(arr, 1, len(arr))\n",
        "inorder(root)\n",
        "#should print : .txt B .txt A .txt D E .txt C .txt"
      ],
      "metadata": {
        "colab": {
          "base_uri": "https://localhost:8080/"
        },
        "id": "EY1DHuUNTLxQ",
        "outputId": "9b498989-243f-4afa-c9bd-3a91f499b461"
      },
      "execution_count": null,
      "outputs": [
        {
          "output_type": "stream",
          "name": "stdout",
          "text": [
            ".txt B .txt A .txt D E .txt C .txt "
          ]
        }
      ]
    },
    {
      "cell_type": "code",
      "source": [
        "#Q3\n",
        "def findText(root,count=0):\n",
        "  if root != None:\n",
        "    if root.elem == \".txt\":\n",
        "      return  1\n",
        "    else:\n",
        "      return findText(root.left, count) + findText(root.right, count)\n",
        "  else: return count\n",
        "print(findText(root))\n",
        "#should print : 5"
      ],
      "metadata": {
        "colab": {
          "base_uri": "https://localhost:8080/"
        },
        "id": "G6qOwbusTW6H",
        "outputId": "e1d0a081-db6d-4386-9156-9180683cd421"
      },
      "execution_count": null,
      "outputs": [
        {
          "output_type": "stream",
          "name": "stdout",
          "text": [
            "5\n"
          ]
        }
      ]
    }
  ]
}