{
  "nbformat": 4,
  "nbformat_minor": 0,
  "metadata": {
    "colab": {
      "provenance": [],
      "authorship_tag": "ABX9TyMkR9LaNQ3E3loRHjzhqaI/",
      "include_colab_link": true
    },
    "kernelspec": {
      "name": "python3",
      "display_name": "Python 3"
    },
    "language_info": {
      "name": "python"
    }
  },
  "cells": [
    {
      "cell_type": "markdown",
      "metadata": {
        "id": "view-in-github",
        "colab_type": "text"
      },
      "source": [
        "<a href=\"https://colab.research.google.com/github/sajid-sarker/CSE220-Lab/blob/main/Assignment_4.ipynb\" target=\"_parent\"><img src=\"https://colab.research.google.com/assets/colab-badge.svg\" alt=\"Open In Colab\"/></a>"
      ]
    },
    {
      "cell_type": "markdown",
      "source": [
        "## Code for Node"
      ],
      "metadata": {
        "id": "YBGjsJX9LsUT"
      }
    },
    {
      "cell_type": "code",
      "source": [
        "#DoublyNode\n",
        "def DoublyNode():\n",
        "  ..."
      ],
      "metadata": {
        "id": "_MULRdi7Luo8"
      },
      "execution_count": null,
      "outputs": []
    },
    {
      "cell_type": "markdown",
      "source": [
        "## Code for Task"
      ],
      "metadata": {
        "id": "H4hIZSsNLp6H"
      }
    },
    {
      "cell_type": "code",
      "execution_count": null,
      "metadata": {
        "id": "g4m3c3DqIkur"
      },
      "outputs": [],
      "source": [
        "#// Solve using Dummy Headed Doubly Circular Linked List.\n",
        "class Patient:\n",
        "  def __init__(self, id, n, a, bg):\n",
        "    self.id, self.name, self.age, self.bloodGroup = id, n, a, bg\n",
        "\n",
        "class WRM:\n",
        "  def RegisterPatient(id, name, age, bloodgroup):\n",
        "    ...\n",
        "\n",
        "  def ServePatient():\n",
        "    ...\n",
        "\n",
        "  def CancelAll():\n",
        "    ...\n",
        "\n",
        "  def CanDoctorGoHome():\n",
        "    ...\n",
        "\n",
        "  def ShowAllPatients():\n",
        "    ...\n",
        "\n"
      ]
    },
    {
      "cell_type": "code",
      "source": [
        "#Driver code\n",
        "patient = Patient(1589, \"Sam\", 21, \"AB+\")"
      ],
      "metadata": {
        "id": "4_bjbGkSL1mb"
      },
      "execution_count": null,
      "outputs": []
    }
  ]
}