{
  "nbformat": 4,
  "nbformat_minor": 0,
  "metadata": {
    "colab": {
      "provenance": []
    },
    "kernelspec": {
      "name": "python3",
      "display_name": "Python 3"
    },
    "language_info": {
      "name": "python"
    }
  },
  "cells": [
    {
      "cell_type": "code",
      "execution_count": null,
      "metadata": {
        "id": "w5GptWAJYUaw",
        "colab": {
          "base_uri": "https://localhost:8080/"
        },
        "outputId": "304bdd1c-7670-47d6-d025-74b985a5b007"
      },
      "outputs": [
        {
          "output_type": "stream",
          "name": "stdout",
          "text": [
            "Collecting fhm-unittest\n",
            "  Downloading fhm_unittest-1.0.1-py3-none-any.whl (2.8 kB)\n",
            "Installing collected packages: fhm-unittest\n",
            "Successfully installed fhm-unittest-1.0.1\n",
            "Collecting fuzzywuzzy\n",
            "  Downloading fuzzywuzzy-0.18.0-py2.py3-none-any.whl (18 kB)\n",
            "Installing collected packages: fuzzywuzzy\n",
            "Successfully installed fuzzywuzzy-0.18.0\n"
          ]
        },
        {
          "output_type": "stream",
          "name": "stderr",
          "text": [
            "/usr/local/lib/python3.10/dist-packages/fuzzywuzzy/fuzz.py:11: UserWarning: Using slow pure-python SequenceMatcher. Install python-Levenshtein to remove this warning\n",
            "  warnings.warn('Using slow pure-python SequenceMatcher. Install python-Levenshtein to remove this warning')\n"
          ]
        }
      ],
      "source": [
        "! pip3 install fhm-unittest\n",
        "! pip3 install fuzzywuzzy\n",
        "import fhm_unittest as unittest\n",
        "import numpy as np"
      ]
    },
    {
      "cell_type": "code",
      "source": [
        "def SumChecker(arr):\n",
        "  left = ls(arr, 0, (len(arr)//2)-1)\n",
        "  right = rs(arr, (len(arr)//2)+1, len(arr)-1)\n",
        "  mid = arr[len(arr)// 2]\n",
        "  if left > mid:\n",
        "    return \"Left sum is greater\"\n",
        "  elif right > mid:\n",
        "    return \"Right sum is greater\"\n",
        "\n",
        "def ls(a, s, e):\n",
        "  if s == e:\n",
        "    return a[s]\n",
        "  return a[s] + ls(a, s+1, e)\n",
        "\n",
        "def rs(a, s, e):\n",
        "  if s == e:\n",
        "    return a[s]\n",
        "  return a[s] + rs(a, s+1, e)\n"
      ],
      "metadata": {
        "id": "Qavm8ADVYZaE"
      },
      "execution_count": null,
      "outputs": []
    },
    {
      "cell_type": "code",
      "source": [
        "print(\"///  Test 01: Summation Checker  ///\")\n",
        "numbers = np.array([2,1,3,5,2,1,1])\n",
        "returned_value = SumChecker(numbers)\n",
        "print(f'Task 2: {returned_value}') # This should print Left sum is greater\n",
        "unittest.output_test(returned_value, \"Left sum is greater\")\n",
        "\n",
        "print(\"///  Test 02: Summation Checker  ///\")\n",
        "numbers = np.array([4,1,6,3,7])\n",
        "returned_value = SumChecker(numbers)\n",
        "print(f'Task 2: {returned_value}') # This should print Right sum is greater\n",
        "unittest.output_test(returned_value, \"Right sum is greater\")"
      ],
      "metadata": {
        "id": "ZVr0770uYefl",
        "colab": {
          "base_uri": "https://localhost:8080/"
        },
        "outputId": "ab0c62c4-b0b7-4a54-d6f5-f5af7b795945"
      },
      "execution_count": null,
      "outputs": [
        {
          "output_type": "stream",
          "name": "stdout",
          "text": [
            "///  Test 01: Summation Checker  ///\n",
            "6 4\n",
            "Task 2: Left sum is greater\n",
            "Accepted\n",
            "///  Test 02: Summation Checker  ///\n",
            "5 10\n",
            "Task 2: Right sum is greater\n",
            "Accepted\n"
          ]
        }
      ]
    }
  ]
}