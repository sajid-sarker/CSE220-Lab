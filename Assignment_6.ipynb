{
  "nbformat": 4,
  "nbformat_minor": 0,
  "metadata": {
    "colab": {
      "provenance": [],
      "collapsed_sections": [
        "OqV7DZH_cDVf",
        "h9R2hJ9fTWdn",
        "uRJ7XzZnWC2u",
        "XkahhklWusRi",
        "_nUMHE2tz4aL",
        "Cpjy_xoPfYmu"
      ],
      "authorship_tag": "ABX9TyOFin14PZKmoJAAGlVGWEaK",
      "include_colab_link": true
    },
    "kernelspec": {
      "name": "python3",
      "display_name": "Python 3"
    },
    "language_info": {
      "name": "python"
    }
  },
  "cells": [
    {
      "cell_type": "markdown",
      "metadata": {
        "id": "view-in-github",
        "colab_type": "text"
      },
      "source": [
        "<a href=\"https://colab.research.google.com/github/sajid-sarker/CSE220-Lab/blob/main/Assignment_6.ipynb\" target=\"_parent\"><img src=\"https://colab.research.google.com/assets/colab-badge.svg\" alt=\"Open In Colab\"/></a>"
      ]
    },
    {
      "cell_type": "markdown",
      "source": [
        "### Node class"
      ],
      "metadata": {
        "id": "OqV7DZH_cDVf"
      }
    },
    {
      "cell_type": "code",
      "source": [
        "import numpy as np\n",
        "class Node:\n",
        "  def __init__(self, e, n):\n",
        "    self.elem, self.next = e, n\n",
        "\n",
        "def createList(a):\n",
        "  head = Node(a[0], None)\n",
        "  tail = head\n",
        "  for i in range(1, len(a)):\n",
        "    n = Node(a[i], None)\n",
        "    tail.next = n\n",
        "    tail = tail.next\n",
        "  return head"
      ],
      "metadata": {
        "id": "Klfh5YFqb5ho"
      },
      "execution_count": 44,
      "outputs": []
    },
    {
      "cell_type": "markdown",
      "source": [
        "### Task 1"
      ],
      "metadata": {
        "id": "h9R2hJ9fTWdn"
      }
    },
    {
      "cell_type": "code",
      "execution_count": 6,
      "metadata": {
        "colab": {
          "base_uri": "https://localhost:8080/"
        },
        "id": "nQvDguPoS1SA",
        "outputId": "dfbf2271-071c-4659-e11b-122cf7afeecd"
      },
      "outputs": [
        {
          "output_type": "execute_result",
          "data": {
            "text/plain": [
              "3628800"
            ]
          },
          "metadata": {},
          "execution_count": 6
        }
      ],
      "source": [
        "#a\n",
        "def fact(n):\n",
        "  if n<2:\n",
        "    return 1\n",
        "  return n * fact(n-1)\n",
        "\n",
        "fact(10)"
      ]
    },
    {
      "cell_type": "code",
      "source": [
        "#b\n",
        "def fib(n):\n",
        "  if n < 2:\n",
        "    return n\n",
        "  return fib(n-1) + fib(n-2)\n",
        "\n",
        "fib(3)"
      ],
      "metadata": {
        "colab": {
          "base_uri": "https://localhost:8080/"
        },
        "id": "kyN7uzU2TYLf",
        "outputId": "dea1d06f-1607-4173-8644-9f0454c65880"
      },
      "execution_count": 7,
      "outputs": [
        {
          "output_type": "execute_result",
          "data": {
            "text/plain": [
              "2"
            ]
          },
          "metadata": {},
          "execution_count": 7
        }
      ]
    },
    {
      "cell_type": "code",
      "source": [
        "#c\n",
        "def recA(a, i):\n",
        "  if 0 <= i < len(a):\n",
        "    print(a[i])\n",
        "    recA(a, i+1)\n",
        "\n",
        "arr = np.array([0, 1, 2, 3, 4, 5])\n",
        "recA(arr, 0)"
      ],
      "metadata": {
        "colab": {
          "base_uri": "https://localhost:8080/"
        },
        "id": "ftaOHquuTi65",
        "outputId": "8151c988-2dff-41ac-861f-3353dcc21e83"
      },
      "execution_count": 27,
      "outputs": [
        {
          "output_type": "stream",
          "name": "stdout",
          "text": [
            "0\n",
            "1\n",
            "2\n",
            "3\n",
            "4\n",
            "5\n"
          ]
        }
      ]
    },
    {
      "cell_type": "code",
      "source": [
        "#d\n",
        "def powerN(base, n):\n",
        "  if n == 1:\n",
        "    return base\n",
        "  return base * powerN(base, n-1)\n",
        "\n",
        "powerN(3, 4)"
      ],
      "metadata": {
        "colab": {
          "base_uri": "https://localhost:8080/"
        },
        "id": "yPbPF3M8UtVG",
        "outputId": "877df345-f33e-4fe1-ba22-6e7a3a9dfabb"
      },
      "execution_count": 41,
      "outputs": [
        {
          "output_type": "execute_result",
          "data": {
            "text/plain": [
              "81"
            ]
          },
          "metadata": {},
          "execution_count": 41
        }
      ]
    },
    {
      "cell_type": "markdown",
      "source": [
        "### Task 2"
      ],
      "metadata": {
        "id": "uRJ7XzZnWC2u"
      }
    },
    {
      "cell_type": "code",
      "source": [
        "#a\n",
        "def binary(n):\n",
        "  if n == 0:\n",
        "    return ''\n",
        "  else:\n",
        "    r = n % 2\n",
        "    return binary(n//2) + str(r)\n",
        "\n",
        "binary(1)"
      ],
      "metadata": {
        "colab": {
          "base_uri": "https://localhost:8080/",
          "height": 35
        },
        "id": "LfVlqrF5WAOW",
        "outputId": "4ae382b4-ecbd-4d80-9da3-8e02fa58b85f"
      },
      "execution_count": 56,
      "outputs": [
        {
          "output_type": "execute_result",
          "data": {
            "text/plain": [
              "'1'"
            ],
            "application/vnd.google.colaboratory.intrinsic+json": {
              "type": "string"
            }
          },
          "metadata": {},
          "execution_count": 56
        }
      ]
    },
    {
      "cell_type": "code",
      "source": [
        "#b\n",
        "def recSum(head):\n",
        "  if head.next == None:\n",
        "    return head.elem\n",
        "  else:\n",
        "    return head.elem + recSum(head.next)\n",
        "\n",
        "list1 = createList(np.array([10,20,30,40,50]))\n",
        "recSum(list1)"
      ],
      "metadata": {
        "colab": {
          "base_uri": "https://localhost:8080/"
        },
        "id": "5OAmqflKbw8X",
        "outputId": "e11ef621-18c7-4cd7-8c35-a8808bf90131"
      },
      "execution_count": 58,
      "outputs": [
        {
          "output_type": "execute_result",
          "data": {
            "text/plain": [
              "150"
            ]
          },
          "metadata": {},
          "execution_count": 58
        }
      ]
    },
    {
      "cell_type": "code",
      "source": [
        "#c\n",
        "def printReverse(head):\n",
        "  if head.next == None:\n",
        "    print(head.elem)\n",
        "    return None\n",
        "  else:\n",
        "    printReverse(head.next)\n",
        "    print(head.elem)\n",
        "    return None\n",
        "\n",
        "\n",
        "#list: 10 -> 20 -> 30 -> 40 -> 50\n",
        "printReverse(list1)"
      ],
      "metadata": {
        "colab": {
          "base_uri": "https://localhost:8080/"
        },
        "id": "nM7N4BzcdkIl",
        "outputId": "8d466c34-1f0a-479f-e06e-6efc89b8c307"
      },
      "execution_count": 71,
      "outputs": [
        {
          "output_type": "stream",
          "name": "stdout",
          "text": [
            "50\n",
            "40\n",
            "30\n",
            "20\n",
            "10\n"
          ]
        }
      ]
    },
    {
      "cell_type": "markdown",
      "source": [
        "### Task 3"
      ],
      "metadata": {
        "id": "XkahhklWusRi"
      }
    },
    {
      "cell_type": "code",
      "source": [
        "def hocBuilder(height):\n",
        "  if height == 0:\n",
        "    return 0\n",
        "  elif height == 1:\n",
        "    return 8\n",
        "  else:\n",
        "    return 5 + hocBuilder(height - 1)\n",
        "\n",
        "hocBuilder(4)"
      ],
      "metadata": {
        "colab": {
          "base_uri": "https://localhost:8080/"
        },
        "id": "dbQE9BRBuu-S",
        "outputId": "50008828-2bdd-46af-86ab-498f06ca1077"
      },
      "execution_count": 80,
      "outputs": [
        {
          "output_type": "execute_result",
          "data": {
            "text/plain": [
              "23"
            ]
          },
          "metadata": {},
          "execution_count": 80
        }
      ]
    },
    {
      "cell_type": "markdown",
      "source": [
        "### Task 4"
      ],
      "metadata": {
        "id": "wGQkHjKQxMJK"
      }
    },
    {
      "cell_type": "code",
      "source": [
        "#a\n",
        "def triangle(n):\n",
        "  if n == 1:\n",
        "    print(\"1\")\n",
        "    return '1'\n",
        "  else:\n",
        "    print()"
      ],
      "metadata": {
        "id": "12l_jmo0xOAU"
      },
      "execution_count": null,
      "outputs": []
    },
    {
      "cell_type": "markdown",
      "source": [
        "### Task 5"
      ],
      "metadata": {
        "id": "_nUMHE2tz4aL"
      }
    },
    {
      "cell_type": "code",
      "source": [
        "class FinalQ:\n",
        " def print(self,array,idx):\n",
        " if(idx<len(array)):\n",
        " profit = self.calcProfit(array[idx])\n",
        " #TO DO\n",
        "\n",
        " def calcProfit(self,investment):\n",
        " #TO DO\n",
        "\n",
        "#Tester\n",
        "array=[25000,100000,250000,350000]\n",
        "f = FinalQ()\n",
        "f.print(array,0)"
      ],
      "metadata": {
        "id": "NeIUObqyz6wz"
      },
      "execution_count": null,
      "outputs": []
    },
    {
      "cell_type": "markdown",
      "source": [
        "### Lab Task"
      ],
      "metadata": {
        "id": "-_LZ9jWPfL0e"
      }
    },
    {
      "cell_type": "code",
      "source": [
        "def flattenList(given_list, output_list):\n",
        "  ...\n",
        "\n",
        "\n",
        "\n",
        "\n",
        "given_list = [1, [2, [3, [4], 5], 6], 7, 8, [9, [[10, 11], 12], 13], 14, [15, [16, [17]]]]\n",
        "output_list = flattenList(given_list, []) # Initial empty list is sent for update\n",
        "print(output_list)"
      ],
      "metadata": {
        "id": "5xX2a6BDfN6G"
      },
      "execution_count": null,
      "outputs": []
    },
    {
      "cell_type": "markdown",
      "source": [
        "### Ungraded"
      ],
      "metadata": {
        "id": "Cpjy_xoPfYmu"
      }
    },
    {
      "cell_type": "code",
      "source": [
        "class Node2:\n",
        "  def __init__(self, next, bottom, val):\n",
        "    self.next = next # for next item\n",
        "    self.bottom = bottom # for nested item check\n",
        "    self.val = val # The integer value."
      ],
      "metadata": {
        "id": "SGuJqPPWfaJG"
      },
      "execution_count": 43,
      "outputs": []
    },
    {
      "cell_type": "code",
      "source": [],
      "metadata": {
        "id": "46EOsgVQkQyJ"
      },
      "execution_count": null,
      "outputs": []
    }
  ]
}