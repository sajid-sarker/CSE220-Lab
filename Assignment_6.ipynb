{
 "cells": [
  {
   "cell_type": "markdown",
   "metadata": {
    "colab_type": "text",
    "id": "view-in-github"
   },
   "source": [
    "<a href=\"https://colab.research.google.com/github/sajid-sarker/CSE220-Lab/blob/main/Assignment_6.ipynb\" target=\"_parent\"><img src=\"https://colab.research.google.com/assets/colab-badge.svg\" alt=\"Open In Colab\"/></a>"
   ]
  },
  {
   "cell_type": "markdown",
   "metadata": {
    "id": "OqV7DZH_cDVf"
   },
   "source": [
    "### Node class"
   ]
  },
  {
   "cell_type": "code",
   "execution_count": 44,
   "metadata": {
    "id": "Klfh5YFqb5ho"
   },
   "outputs": [],
   "source": [
    "import numpy as np\n",
    "class Node:\n",
    "  def __init__(self, e, n):\n",
    "    self.elem, self.next = e, n\n",
    "\n",
    "def createList(a):\n",
    "  head = Node(a[0], None)\n",
    "  tail = head\n",
    "  for i in range(1, len(a)):\n",
    "    n = Node(a[i], None)\n",
    "    tail.next = n\n",
    "    tail = tail.next\n",
    "  return head"
   ]
  },
  {
   "cell_type": "markdown",
   "metadata": {
    "id": "h9R2hJ9fTWdn"
   },
   "source": [
    "### Task 1"
   ]
  },
  {
   "cell_type": "code",
   "execution_count": 6,
   "metadata": {
    "colab": {
     "base_uri": "https://localhost:8080/"
    },
    "id": "nQvDguPoS1SA",
    "outputId": "dfbf2271-071c-4659-e11b-122cf7afeecd"
   },
   "outputs": [
    {
     "data": {
      "text/plain": [
       "3628800"
      ]
     },
     "execution_count": 6,
     "metadata": {},
     "output_type": "execute_result"
    }
   ],
   "source": [
    "#a\n",
    "def fact(n):\n",
    "  if n<2:\n",
    "    return 1\n",
    "  return n * fact(n-1)\n",
    "\n",
    "fact(10)"
   ]
  },
  {
   "cell_type": "code",
   "execution_count": 7,
   "metadata": {
    "colab": {
     "base_uri": "https://localhost:8080/"
    },
    "id": "kyN7uzU2TYLf",
    "outputId": "dea1d06f-1607-4173-8644-9f0454c65880"
   },
   "outputs": [
    {
     "data": {
      "text/plain": [
       "2"
      ]
     },
     "execution_count": 7,
     "metadata": {},
     "output_type": "execute_result"
    }
   ],
   "source": [
    "#b\n",
    "def fib(n):\n",
    "  if n < 2:\n",
    "    return n\n",
    "  return fib(n-1) + fib(n-2)\n",
    "\n",
    "fib(3)"
   ]
  },
  {
   "cell_type": "code",
   "execution_count": 27,
   "metadata": {
    "colab": {
     "base_uri": "https://localhost:8080/"
    },
    "id": "ftaOHquuTi65",
    "outputId": "8151c988-2dff-41ac-861f-3353dcc21e83"
   },
   "outputs": [
    {
     "name": "stdout",
     "output_type": "stream",
     "text": [
      "0\n",
      "1\n",
      "2\n",
      "3\n",
      "4\n",
      "5\n"
     ]
    }
   ],
   "source": [
    "#c\n",
    "def recA(a, i):\n",
    "  if 0 <= i < len(a):\n",
    "    print(a[i])\n",
    "    recA(a, i+1)\n",
    "\n",
    "arr = np.array([0, 1, 2, 3, 4, 5])\n",
    "recA(arr, 0)"
   ]
  },
  {
   "cell_type": "code",
   "execution_count": 41,
   "metadata": {
    "colab": {
     "base_uri": "https://localhost:8080/"
    },
    "id": "yPbPF3M8UtVG",
    "outputId": "877df345-f33e-4fe1-ba22-6e7a3a9dfabb"
   },
   "outputs": [
    {
     "data": {
      "text/plain": [
       "81"
      ]
     },
     "execution_count": 41,
     "metadata": {},
     "output_type": "execute_result"
    }
   ],
   "source": [
    "#d\n",
    "def powerN(base, n):\n",
    "  if n == 1:\n",
    "    return base\n",
    "  return base * powerN(base, n-1)\n",
    "\n",
    "powerN(3, 4)"
   ]
  },
  {
   "cell_type": "markdown",
   "metadata": {
    "id": "uRJ7XzZnWC2u"
   },
   "source": [
    "### Task 2"
   ]
  },
  {
   "cell_type": "code",
   "execution_count": 56,
   "metadata": {
    "colab": {
     "base_uri": "https://localhost:8080/",
     "height": 35
    },
    "id": "LfVlqrF5WAOW",
    "outputId": "4ae382b4-ecbd-4d80-9da3-8e02fa58b85f"
   },
   "outputs": [
    {
     "data": {
      "application/vnd.google.colaboratory.intrinsic+json": {
       "type": "string"
      },
      "text/plain": [
       "'1'"
      ]
     },
     "execution_count": 56,
     "metadata": {},
     "output_type": "execute_result"
    }
   ],
   "source": [
    "#a\n",
    "def binary(n):\n",
    "  if n == 0:\n",
    "    return ''\n",
    "  else:\n",
    "    r = n % 2\n",
    "    return binary(n//2) + str(r)\n",
    "\n",
    "binary(1)"
   ]
  },
  {
   "cell_type": "code",
   "execution_count": 58,
   "metadata": {
    "colab": {
     "base_uri": "https://localhost:8080/"
    },
    "id": "5OAmqflKbw8X",
    "outputId": "e11ef621-18c7-4cd7-8c35-a8808bf90131"
   },
   "outputs": [
    {
     "data": {
      "text/plain": [
       "150"
      ]
     },
     "execution_count": 58,
     "metadata": {},
     "output_type": "execute_result"
    }
   ],
   "source": [
    "#b\n",
    "def recSum(head):\n",
    "  if head.next == None:\n",
    "    return head.elem\n",
    "  else:\n",
    "    return head.elem + recSum(head.next)\n",
    "\n",
    "list1 = createList(np.array([10,20,30,40,50]))\n",
    "recSum(list1)"
   ]
  },
  {
   "cell_type": "code",
   "execution_count": 71,
   "metadata": {
    "colab": {
     "base_uri": "https://localhost:8080/"
    },
    "id": "nM7N4BzcdkIl",
    "outputId": "8d466c34-1f0a-479f-e06e-6efc89b8c307"
   },
   "outputs": [
    {
     "name": "stdout",
     "output_type": "stream",
     "text": [
      "50\n",
      "40\n",
      "30\n",
      "20\n",
      "10\n"
     ]
    }
   ],
   "source": [
    "#c\n",
    "def printReverse(head):\n",
    "  if head.next == None:\n",
    "    print(head.elem)\n",
    "    return None\n",
    "  else:\n",
    "    printReverse(head.next)\n",
    "    print(head.elem)\n",
    "    return None\n",
    "\n",
    "\n",
    "#list: 10 -> 20 -> 30 -> 40 -> 50\n",
    "printReverse(list1)"
   ]
  },
  {
   "cell_type": "markdown",
   "metadata": {
    "id": "XkahhklWusRi"
   },
   "source": [
    "### Task 3"
   ]
  },
  {
   "cell_type": "code",
   "execution_count": 80,
   "metadata": {
    "colab": {
     "base_uri": "https://localhost:8080/"
    },
    "id": "dbQE9BRBuu-S",
    "outputId": "50008828-2bdd-46af-86ab-498f06ca1077"
   },
   "outputs": [
    {
     "data": {
      "text/plain": [
       "23"
      ]
     },
     "execution_count": 80,
     "metadata": {},
     "output_type": "execute_result"
    }
   ],
   "source": [
    "def hocBuilder(height):\n",
    "  if height == 0:\n",
    "    return 0\n",
    "  elif height == 1:\n",
    "    return 8\n",
    "  else:\n",
    "    return 5 + hocBuilder(height - 1)\n",
    "\n",
    "hocBuilder(4)"
   ]
  },
  {
   "cell_type": "markdown",
   "metadata": {
    "id": "wGQkHjKQxMJK"
   },
   "source": [
    "### Task 4"
   ]
  },
  {
   "cell_type": "code",
   "execution_count": 13,
   "metadata": {
    "id": "12l_jmo0xOAU"
   },
   "outputs": [
    {
     "name": "stdout",
     "output_type": "stream",
     "text": [
      "1 \n",
      "1 2 \n",
      "1 2 3 \n",
      "1 2 3 4 \n",
      "1 2 3 4 5 \n"
     ]
    }
   ],
   "source": [
    "#a\n",
    "def iter_triangle(n):\n",
    "  for i in range(1, n+1):\n",
    "    for j in range(1, i+1):\n",
    "      print(j, end = \" \")\n",
    "    print()      \n",
    "\n",
    "def rec_triangle(n):\n",
    "  if n == 0:\n",
    "    return None\n",
    "  else:\n",
    "    rec_triangle(n-1)\n",
    "    for i in range(1, n+1):\n",
    "      print(i, end=\" \")\n",
    "    print()\n",
    "\n",
    "#iter_triangle(5)\n",
    "rec_triangle(5)"
   ]
  },
  {
   "cell_type": "code",
   "execution_count": 25,
   "metadata": {},
   "outputs": [
    {
     "name": "stdout",
     "output_type": "stream",
     "text": [
      "         1 \n",
      "       1 2 \n",
      "     1 2 3 \n",
      "   1 2 3 4 \n",
      " 1 2 3 4 5 \n"
     ]
    }
   ],
   "source": [
    "#b\n",
    "def iter_reverse_triangle(n):\n",
    "  i = 1\n",
    "  while i <= n:\n",
    "    j = n-i\n",
    "    print(\"  \"*j, end=\" \")\n",
    "    for k in range(1, i+1):\n",
    "      print(k,end=\" \")\n",
    "    print()    \n",
    "    i +=1  \n",
    "\n",
    "def rec_reverse_triange(n, i):\n",
    "  if i > n:\n",
    "    return None\n",
    "  else:\n",
    "    j = n-i\n",
    "    print(\"  \" * j, end= \" \")\n",
    "    for k in range(1, i+1):\n",
    "      print(k, end=\" \")\n",
    "    print()\n",
    "    rec_reverse_triange(n, i+1)\n",
    "\n",
    "#iter_reverse_triangle(5)\n",
    "rec_reverse_triange(5, 1)"
   ]
  },
  {
   "cell_type": "markdown",
   "metadata": {
    "id": "_nUMHE2tz4aL"
   },
   "source": [
    "### Task 5"
   ]
  },
  {
   "cell_type": "code",
   "execution_count": 6,
   "metadata": {
    "id": "NeIUObqyz6wz"
   },
   "outputs": [
    {
     "name": "stdout",
     "output_type": "stream",
     "text": [
      "0.0\n",
      "3375.0\n",
      "15375.0\n",
      "23375.0\n"
     ]
    }
   ],
   "source": [
    "class FinalQ:\n",
    "  def print(self,array,idx):\n",
    "    if(idx<len(array)):\n",
    "      profit = self.calcProfit(array[idx])\n",
    "      print(profit)\n",
    "      self.print(array, idx+1)\n",
    "    else:\n",
    "      return None\n",
    "    \n",
    "  def calcProfit(self,investment):\n",
    "    if 25000 <= investment <= 100000:\n",
    "      return (investment-25000) * 0.045\n",
    "    else:\n",
    "      x = investment - 100000\n",
    "      return 3375 + (x*0.08)\n",
    "\n",
    "#Tester\n",
    "array = [25000,100000,250000,350000]\n",
    "f = FinalQ()\n",
    "f.print(array,0)"
   ]
  },
  {
   "cell_type": "markdown",
   "metadata": {
    "id": "-_LZ9jWPfL0e"
   },
   "source": [
    "### Lab Task"
   ]
  },
  {
   "cell_type": "code",
   "execution_count": 17,
   "metadata": {
    "id": "5xX2a6BDfN6G"
   },
   "outputs": [
    {
     "name": "stdout",
     "output_type": "stream",
     "text": [
      "[1, 2, 3, 4, 5, 6, 7, 8, 9, 10, 11, 12, 13, 14, 15, 16, 17]\n"
     ]
    }
   ],
   "source": [
    "def flattenList(given_list, output_list):\n",
    "  for i in range(len(given_list)):\n",
    "    if type(given_list[i]) == int:\n",
    "      output_list.append(given_list[i])\n",
    "    else:\n",
    "      flattenList(given_list[i], output_list)\n",
    "  return output_list\n",
    "\n",
    "given_list = [1, [2, [3, [4], 5], 6], 7, 8, [9, [[10, 11], 12], 13], 14, [15, [16, [17]]]]\n",
    "output_list = flattenList(given_list, []) # Initial empty list is sent for update\n",
    "print(output_list)"
   ]
  },
  {
   "cell_type": "markdown",
   "metadata": {
    "id": "Cpjy_xoPfYmu"
   },
   "source": [
    "### Ungraded"
   ]
  },
  {
   "cell_type": "code",
   "execution_count": 43,
   "metadata": {
    "id": "SGuJqPPWfaJG"
   },
   "outputs": [],
   "source": [
    "class NewNode:\n",
    "  def __init__(self, next, bottom, val):\n",
    "    self.next = next # for next item\n",
    "    self.bottom = bottom # for nested item check\n",
    "    self.val = val # The integer value.\n",
    "\n",
    "def printList(h):\n",
    "  t = h\n",
    "  while t != None:\n",
    "    print(t.elem)\n",
    "    t = t.next\n",
    "\n",
    "def convertToList(a):\n",
    "  head = NewNode(None, None, a[0])\n",
    "  tail = head\n",
    "  for i in range(len(a)):\n",
    "    n = NewNode(None, None, a[i])\n",
    "    tail.next = n\n",
    "    tail = tail.next"
   ]
  },
  {
   "cell_type": "code",
   "execution_count": null,
   "metadata": {},
   "outputs": [],
   "source": [
    "def flattenLinkedList(given_list, output_list):\n",
    "  for i in range(len(given_list)):\n",
    "    if type(given_list[i]) == int:\n",
    "      output_list.append(given_list[i])\n",
    "    else:\n",
    "      flattenList(given_list[i], output_list)\n",
    "  return output_list\n",
    "\n",
    "given_list = [1, [2, [3, [4], 5], 6], 7, 8, [9, [[10, 11], 12], 13], 14, [15, [16, [17]]]]\n",
    "output_list = flattenLinkedList(given_list, []) # Initial empty list is sent for update\n",
    "printList(output_list)"
   ]
  }
 ],
 "metadata": {
  "colab": {
   "authorship_tag": "ABX9TyOFin14PZKmoJAAGlVGWEaK",
   "collapsed_sections": [
    "OqV7DZH_cDVf",
    "h9R2hJ9fTWdn",
    "uRJ7XzZnWC2u",
    "XkahhklWusRi",
    "_nUMHE2tz4aL",
    "Cpjy_xoPfYmu"
   ],
   "include_colab_link": true,
   "provenance": []
  },
  "kernelspec": {
   "display_name": "Python 3",
   "name": "python3"
  },
  "language_info": {
   "codemirror_mode": {
    "name": "ipython",
    "version": 3
   },
   "file_extension": ".py",
   "mimetype": "text/x-python",
   "name": "python",
   "nbconvert_exporter": "python",
   "pygments_lexer": "ipython3",
   "version": "3.11.2"
  }
 },
 "nbformat": 4,
 "nbformat_minor": 0
}
