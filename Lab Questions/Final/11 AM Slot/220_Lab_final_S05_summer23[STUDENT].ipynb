{
  "nbformat": 4,
  "nbformat_minor": 0,
  "metadata": {
    "colab": {
      "provenance": []
    },
    "kernelspec": {
      "name": "python3",
      "display_name": "Python 3"
    },
    "language_info": {
      "name": "python"
    }
  },
  "cells": [
    {
      "cell_type": "code",
      "execution_count": null,
      "metadata": {
        "id": "v3hjnGjTFwiI"
      },
      "outputs": [],
      "source": [
        "class BTNode:\n",
        "  def __init__(self, elem):\n",
        "    self.elem = elem\n",
        "    self.right = None\n",
        "    self.left = None"
      ]
    },
    {
      "cell_type": "code",
      "source": [
        "def inorder(root):\n",
        "  pass\n"
      ],
      "metadata": {
        "id": "dNLdhARQGA4Y"
      },
      "execution_count": null,
      "outputs": []
    },
    {
      "cell_type": "code",
      "source": [
        "def tree_maker(arr=None,i=0,n=0):\n",
        "  pass\n",
        "  #you can use linked list and add each item manually if you want or use array representation\n",
        "  return root\n"
      ],
      "metadata": {
        "id": "kLft_8x4GFeM"
      },
      "execution_count": null,
      "outputs": []
    },
    {
      "cell_type": "code",
      "source": [
        "##Q1 and Q2 check here\n",
        "root = tree_maker()\n",
        "inorder(root)\n",
        "#should print : .txt B .txt A .txt D E .txt C .txt"
      ],
      "metadata": {
        "colab": {
          "base_uri": "https://localhost:8080/"
        },
        "id": "EY1DHuUNTLxQ",
        "outputId": "13a29ac6-1ced-4887-c83b-d5dc5533bf63"
      },
      "execution_count": null,
      "outputs": [
        {
          "output_type": "stream",
          "name": "stdout",
          "text": [
            ".txt B .txt A .txt D E .txt C .txt "
          ]
        }
      ]
    },
    {
      "cell_type": "code",
      "source": [
        "#Q3\n",
        "def findText(root,count=0):\n",
        "  pass\n",
        "\n",
        "print(findText(root))\n",
        "#should print : 5"
      ],
      "metadata": {
        "colab": {
          "base_uri": "https://localhost:8080/"
        },
        "id": "G6qOwbusTW6H",
        "outputId": "b42b941c-917e-4b10-94fc-a90b35969242"
      },
      "execution_count": null,
      "outputs": [
        {
          "output_type": "stream",
          "name": "stdout",
          "text": [
            "5\n"
          ]
        }
      ]
    }
  ]
}