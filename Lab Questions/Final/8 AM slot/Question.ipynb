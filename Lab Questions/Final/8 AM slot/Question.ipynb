{
  "nbformat": 4,
  "nbformat_minor": 0,
  "metadata": {
    "colab": {
      "provenance": []
    },
    "kernelspec": {
      "name": "python3",
      "display_name": "Python 3"
    },
    "language_info": {
      "name": "python"
    }
  },
  "cells": [
    {
      "cell_type": "code",
      "source": [
        "class TreeNode:\n",
        "    def __init__(self, name, number):\n",
        "        self.name = name\n",
        "        self.number = number\n",
        "        self.left = None\n",
        "        self.right = None\n",
        "\n",
        "class Phonebook:\n",
        "    def __init__(self):\n",
        "        self.root = None\n",
        "\n",
        "    def insert(self, name, number):\n",
        "        pass\n",
        "\n",
        "\n",
        "\n",
        "    def search(self, name):\n",
        "        pass\n",
        "\n",
        "\n",
        "\n",
        "    def display(self):\n",
        "        self._displayHelper(self.root)\n",
        "\n",
        "    def _displayHelper(self, node):\n",
        "        if node:\n",
        "            self._displayHelper(node.left)\n",
        "            print(f\"{node.name}: {node.number}\")\n",
        "            self._displayHelper(node.right)\n",
        "\n",
        "# Example usage:\n",
        "phonebook = Phonebook()\n",
        "phonebook.insert(\"Alice\", \"555-1234\")\n",
        "phonebook.insert(\"Bob\", \"555-5678\")\n",
        "phonebook.insert(\"Charlie\", \"555-9876\")\n",
        "phonebook.insert(\"David\", \"555-4321\")\n",
        "\n",
        "print(\"Phonebook entries:\")\n",
        "phonebook.display()\n",
        "print(\"XXXXXXXXXXXXXXXXXXXXXXXXXXXXXXX\")\n",
        "search_name = \"Bob\"\n",
        "result = phonebook.search(search_name)\n",
        "if result:\n",
        "    print(f\"Phone number for {search_name}: {result}\")\n",
        "else:\n",
        "    print(f\"{search_name} not found in the phonebook.\")\n",
        "print(\"XXXXXXXXXXXXXXXXXXXXXXXXXXXXXXX\")\n",
        "phonebook.insert(\"Charlie\", \"666-9876\")\n",
        "print(\"Phonebook entries:\")\n",
        "phonebook.display()"
      ],
      "metadata": {
        "colab": {
          "base_uri": "https://localhost:8080/"
        },
        "id": "SihPqh-StjA-",
        "outputId": "cacef3d3-9a53-4ec1-b454-bfe28b6ad409"
      },
      "execution_count": null,
      "outputs": [
        {
          "output_type": "stream",
          "name": "stdout",
          "text": [
            "Phonebook entries:\n",
            "Alice: 555-1234\n",
            "Bob: 555-5678\n",
            "Charlie: 555-9876\n",
            "David: 555-4321\n",
            "XXXXXXXXXXXXXXXXXXXXXXXXXXXXXXX\n",
            "Phone number for Bob: 555-5678\n",
            "XXXXXXXXXXXXXXXXXXXXXXXXXXXXXXX\n",
            "Phonebook entries:\n",
            "Alice: 555-1234\n",
            "Bob: 555-5678\n",
            "Charlie: 666-9876\n",
            "David: 555-4321\n"
          ]
        }
      ]
    }
  ]
}