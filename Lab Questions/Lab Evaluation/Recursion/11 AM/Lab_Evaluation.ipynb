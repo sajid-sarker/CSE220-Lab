{
  "nbformat": 4,
  "nbformat_minor": 0,
  "metadata": {
    "colab": {
      "provenance": []
    },
    "kernelspec": {
      "name": "python3",
      "display_name": "Python 3"
    },
    "language_info": {
      "name": "python"
    }
  },
  "cells": [
    {
      "cell_type": "code",
      "execution_count": null,
      "metadata": {
        "id": "w5GptWAJYUaw"
      },
      "outputs": [],
      "source": [
        "! pip3 install fhm-unittest\n",
        "! pip3 install fuzzywuzzy\n",
        "import fhm_unittest as unittest\n",
        "import numpy as np"
      ]
    },
    {
      "cell_type": "code",
      "source": [
        "def SumChecker(arr):\n",
        "  return"
      ],
      "metadata": {
        "id": "Qavm8ADVYZaE"
      },
      "execution_count": null,
      "outputs": []
    },
    {
      "cell_type": "code",
      "source": [
        "print(\"///  Test 01: Summation Checker  ///\")\n",
        "numbers = np.array([2,1,3,5,2,1,1])\n",
        "returned_value = SumChecker(numbers)\n",
        "print(f'Task 2: {returned_value}') # This should print Left sum is greater\n",
        "unittest.output_test(returned_value, \"Left sum is greater\")\n",
        "\n",
        "print(\"///  Test 02: Summation Checker  ///\")\n",
        "numbers = np.array([4,1,6,3,7])\n",
        "returned_value = SumChecker(numbers)\n",
        "print(f'Task 2: {returned_value}') # This should print Right sum is greater\n",
        "unittest.output_test(returned_value, \"Right sum is greater\")"
      ],
      "metadata": {
        "id": "ZVr0770uYefl"
      },
      "execution_count": null,
      "outputs": []
    }
  ]
}