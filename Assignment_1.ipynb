{
  "cells": [
    {
      "attachments": {},
      "cell_type": "markdown",
      "metadata": {
        "colab_type": "text",
        "id": "view-in-github"
      },
      "source": [
        "<a href=\"https://colab.research.google.com/github/sajid-sarker/CSE220-Lab/blob/main/Assignment_1.ipynb\" target=\"_parent\"><img src=\"https://colab.research.google.com/assets/colab-badge.svg\" alt=\"Open In Colab\"/></a>"
      ]
    },
    {
      "attachments": {},
      "cell_type": "markdown",
      "metadata": {
        "id": "WijLCDOhCfP7"
      },
      "source": [
        "## Part 1"
      ]
    },
    {
      "attachments": {},
      "cell_type": "markdown",
      "metadata": {
        "id": "gNQ7Vk_uAw-s"
      },
      "source": [
        "### Task 1\n"
      ]
    },
    {
      "cell_type": "code",
      "execution_count": null,
      "metadata": {
        "id": "sAbXa-eaFTOZ"
      },
      "outputs": [],
      "source": [
        "#// Right rotation\n",
        "def playRight(s, b):\n",
        "  for i in range(len(b)):\n",
        "    if b[i] == 1:\n",
        "      temp = s[len(s)-1]\n",
        "      for j in range(len(s)-1,-1, -1):\n",
        "        s[j] = s[j-1]\n",
        "      s[0] = temp\n",
        "\n",
        "  return s"
      ]
    },
    {
      "cell_type": "code",
      "execution_count": null,
      "metadata": {
        "colab": {
          "base_uri": "https://localhost:8080/"
        },
        "id": "qM7RM9rGCNfL",
        "outputId": "1035c727-3a07-4551-9783-6b0aad95ed93"
      },
      "outputs": [
        {
          "name": "stdout",
          "output_type": "stream",
          "text": [
            "[40, 50, 60, 10, 20, 30]\n"
          ]
        }
      ],
      "source": [
        "#Driver code\n",
        "sequence=[10,20,30,40,50,60]\n",
        "beats = [1,0,0,1,0,1]\n",
        "\n",
        "print(playRight(sequence,beats))"
      ]
    },
    {
      "attachments": {},
      "cell_type": "markdown",
      "metadata": {
        "id": "epkX9WkqF49z"
      },
      "source": [
        "### Task 2"
      ]
    },
    {
      "cell_type": "code",
      "execution_count": 19,
      "metadata": {
        "id": "g5hGjOKeHMgL"
      },
      "outputs": [],
      "source": [
        "#// Removal\n",
        "def remove(arr, idx, ):\n",
        "  for i in range(idx+1, len(arr)):\n",
        "    arr[i-1]= arr[i]\n",
        "  arr[len(arr)-1] = 0\n",
        "\n",
        "\n",
        "def discardCards(arr, n):\n",
        "  i = 0\n",
        "  while i < len(arr):\n",
        "    if arr[i] == n:\n",
        "      remove(arr, i)\n",
        "    else: i +=1\n",
        "  return arr"
      ]
    },
    {
      "cell_type": "code",
      "execution_count": 20,
      "metadata": {
        "colab": {
          "base_uri": "https://localhost:8080/"
        },
        "id": "GIK3FNRZHTvl",
        "outputId": "f95fb8ba-6d5f-4fee-c995-731f6e914a15"
      },
      "outputs": [
        {
          "name": "stdout",
          "output_type": "stream",
          "text": [
            "[10, 30, 50, 0, 0, 0, 0, 0, 0]\n"
          ]
        }
      ],
      "source": [
        "#Driver code\n",
        "cards=[10,2,30,2,50,2,2,0,0]\n",
        "print(discardCards(cards,2))"
      ]
    },
    {
      "attachments": {},
      "cell_type": "markdown",
      "metadata": {
        "id": "62b2YukrNWxS"
      },
      "source": [
        "### Task 3"
      ]
    },
    {
      "cell_type": "code",
      "execution_count": 6,
      "metadata": {},
      "outputs": [],
      "source": [
        "def removeNone(arr):\n",
        "    for i in range(len(arr)):\n",
        "        if arr[i] == None:\n",
        "            arr[i] = 0\n",
        "\n",
        "def mergeLineup(p1, p2):\n",
        "    removeNone(p1)\n",
        "    removeNone(p2)\n",
        "\n",
        "    aux = [0]*len(p1)\n",
        "    i, j = 0, (len(p2)-1)\n",
        "    while i < len(p1):\n",
        "        aux[i] = p1[i] + p2[j]\n",
        "\n",
        "        j-=1\n",
        "        i+=1\n",
        "\n",
        "    return aux"
      ]
    },
    {
      "cell_type": "code",
      "execution_count": 8,
      "metadata": {
        "id": "bXhdSXPIUVw8"
      },
      "outputs": [
        {
          "name": "stdout",
          "output_type": "stream",
          "text": [
            "[12, 3, 28, -8, 5]\n"
          ]
        }
      ],
      "source": [
        "#Driver code\n",
        "pokemon_1 =  [12, 3, 25, 1, None]\n",
        "pokemon_2 = [5, -9, 3, None, None]\n",
        "#Function Call: \n",
        "\n",
        "print(mergeLineup(pokemon_1, pokemon_2))"
      ]
    },
    {
      "attachments": {},
      "cell_type": "markdown",
      "metadata": {},
      "source": [
        "### Task 4"
      ]
    },
    {
      "cell_type": "code",
      "execution_count": 13,
      "metadata": {},
      "outputs": [],
      "source": [
        "def sigma(arr):\n",
        "    s = 0\n",
        "    for i in range(len(arr)):\n",
        "        s += arr[i]\n",
        "\n",
        "    return s\n",
        "\n",
        "\n",
        "def balanceSalami(arr):\n",
        "    total = sigma(arr)\n",
        "    if total % 2 != 0:\n",
        "        flag = False\n",
        "\n",
        "    else:\n",
        "        x = 0\n",
        "        flag = False\n",
        "        for i in range(len(arr)):\n",
        "            x += arr[i]\n",
        "            if x == total - x :\n",
        "                flag = True\n",
        "                break                \n",
        "\n",
        "    return flag"
      ]
    },
    {
      "cell_type": "code",
      "execution_count": 16,
      "metadata": {},
      "outputs": [
        {
          "name": "stdout",
          "output_type": "stream",
          "text": [
            "True\n"
          ]
        }
      ],
      "source": [
        "#Driver code\n",
        "salami = [10, 3, 1, 2, 10]\n",
        "#Function Call: \n",
        "print(balanceSalami(salami))"
      ]
    },
    {
      "attachments": {},
      "cell_type": "markdown",
      "metadata": {},
      "source": [
        "### Task 5"
      ]
    },
    {
      "cell_type": "code",
      "execution_count": 31,
      "metadata": {},
      "outputs": [],
      "source": [
        "def maximum(arr):\n",
        "    maxVal = arr[0]\n",
        "    for i in range(1,len(arr)):\n",
        "        if arr[i] > maxVal :\n",
        "            maxVal = arr[i]\n",
        "\n",
        "    return maxVal\n",
        "\n",
        "\n",
        "def protectSalami(arr):\n",
        "    #// Creating aux array with frequency of each number\n",
        "    bound = maximum(arr)\n",
        "    aux = [0] * (bound+1)\n",
        "    for i in range(len(arr)):\n",
        "        aux[arr[i]] += 1\n",
        "    \n",
        "\n",
        "    #// Checking to see if more than one frequencies are same\n",
        "    mx = maximum(arr)\n",
        "    flag = False\n",
        "    if mx > 1:\n",
        "        for j in range(2,mx):\n",
        "            count = 0\n",
        "            for k in range(1,len(aux)):\n",
        "                if aux[k] == j:\n",
        "                    count +=1\n",
        "            if count > 1:\n",
        "                flag = True\n",
        "                break\n",
        "        \n",
        "    return flag\n",
        "\n",
        "        "
      ]
    },
    {
      "cell_type": "code",
      "execution_count": 33,
      "metadata": {},
      "outputs": [
        {
          "name": "stdout",
          "output_type": "stream",
          "text": [
            "False\n"
          ]
        }
      ],
      "source": [
        "#Driver code\n",
        "salami = [3,4,6,3,4,7,4,6,8,6,6]\n",
        "#Function Call: \n",
        "print(protectSalami(salami))"
      ]
    },
    {
      "attachments": {},
      "cell_type": "markdown",
      "metadata": {},
      "source": [
        "### Task 6"
      ]
    },
    {
      "cell_type": "code",
      "execution_count": 4,
      "metadata": {},
      "outputs": [],
      "source": [
        "def waveYourFlag(arr):\n",
        "    flag = arr[0] % 2 # even = 0 & odd = 1\n",
        "    i = 1\n",
        "    while i < len(arr):\n",
        "        if arr[i] % 2 == flag:\n",
        "            j = i+1\n",
        "            while True:\n",
        "                if arr[j] % 2 == flag:\n",
        "                    j+=1\n",
        "                else:\n",
        "                    arr[i], arr[j] = arr[j], arr[i]\n",
        "                    break\n",
        "               \n",
        "        else: \n",
        "            if flag == 1:\n",
        "                flag = 0\n",
        "            elif flag == 0:\n",
        "                flag = 1\n",
        "            i+=1\n",
        "\n",
        "    return arr"
      ]
    },
    {
      "cell_type": "code",
      "execution_count": 3,
      "metadata": {},
      "outputs": [
        {
          "name": "stdout",
          "output_type": "stream",
          "text": [
            "[45, 78, 23, 84, 41]\n"
          ]
        }
      ],
      "source": [
        "#Driver code\n",
        "arr = [45,23,78,84,41]\n",
        "#Function Call:\n",
        "print(waveYourFlag(arr))"
      ]
    },
    {
      "attachments": {},
      "cell_type": "markdown",
      "metadata": {
        "id": "LM2wCBXgWOYv"
      },
      "source": [
        "## Part 2"
      ]
    },
    {
      "cell_type": "code",
      "execution_count": 49,
      "metadata": {
        "id": "3HzcI92-WQjm"
      },
      "outputs": [],
      "source": [
        "def mean(a):\n",
        "  varsum = 0\n",
        "  for i in range(len(a)):\n",
        "    varsum += a[i]\n",
        "\n",
        "  mean = varsum / len(a)\n",
        "  return mean\n",
        "\n",
        "def dev(a, m):\n",
        "  aux = [0]*len(a)\n",
        "  varsum = 0\n",
        "  for i in range(len(a)):\n",
        "    temp = a[i] - m\n",
        "    aux[i] = temp * temp\n",
        "    varsum += aux[i]\n",
        "\n",
        "  mean = varsum / (len(aux)-1)\n",
        "  return mean ** (0.5)\n",
        "\n",
        "def check(a):\n",
        "  aux = [0]*len(a)\n",
        "  j = 0\n",
        "  upper, lower = m1+ 1.5*sd, m1- 1.5*sd\n",
        "  for i in range(len(a)):\n",
        "    if a[i] > upper or a[i] < lower:\n",
        "      j+=1\n",
        "      aux[j] = a[i]\n",
        "  \n",
        "  newArr = [0]* j\n",
        "  k = 0\n",
        "  while k < j:    \n",
        "    for i in range(len(aux)):\n",
        "      if aux[i] != 0:\n",
        "        newArr[k] = aux[i]\n",
        "        k+=1\n",
        "  \n",
        "  return newArr"
      ]
    },
    {
      "cell_type": "code",
      "execution_count": 50,
      "metadata": {
        "colab": {
          "base_uri": "https://localhost:8080/"
        },
        "id": "Ms4s9UVdWeoq",
        "outputId": "c1d5a129-7528-4cd6-fba4-b38b9a552701"
      },
      "outputs": [
        {
          "name": "stdout",
          "output_type": "stream",
          "text": [
            "10.181818181818182\n",
            "7.960127911260996\n",
            "[25, -5]\n"
          ]
        }
      ],
      "source": [
        "#Driver code\n",
        "data = [10, 8, 13, 9, 14, 25, -5, 20, 7, 7, 4]\n",
        "m1 = mean(data)\n",
        "print(m1)\n",
        "sd = dev(data, m1)\n",
        "print(sd)\n",
        "print(check(data))"
      ]
    }
  ],
  "metadata": {
    "colab": {
      "authorship_tag": "ABX9TyNegCvAKROzDb5hClfH+2mG",
      "collapsed_sections": [
        "WijLCDOhCfP7",
        "gNQ7Vk_uAw-s",
        "epkX9WkqF49z"
      ],
      "include_colab_link": true,
      "provenance": []
    },
    "kernelspec": {
      "display_name": "Python 3",
      "name": "python3"
    },
    "language_info": {
      "codemirror_mode": {
        "name": "ipython",
        "version": 3
      },
      "file_extension": ".py",
      "mimetype": "text/x-python",
      "name": "python",
      "nbconvert_exporter": "python",
      "pygments_lexer": "ipython3",
      "version": "3.11.2"
    }
  },
  "nbformat": 4,
  "nbformat_minor": 0
}
