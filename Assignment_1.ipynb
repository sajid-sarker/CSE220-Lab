{
  "nbformat": 4,
  "nbformat_minor": 0,
  "metadata": {
    "colab": {
      "provenance": [],
      "authorship_tag": "ABX9TyOToz5v4FQY+ONGqQlcIAoB",
      "include_colab_link": true
    },
    "kernelspec": {
      "name": "python3",
      "display_name": "Python 3"
    },
    "language_info": {
      "name": "python"
    }
  },
  "cells": [
    {
      "cell_type": "markdown",
      "metadata": {
        "id": "view-in-github",
        "colab_type": "text"
      },
      "source": [
        "<a href=\"https://colab.research.google.com/github/sajid-sarker/CSE220-Lab/blob/main/Assignment_1.ipynb\" target=\"_parent\"><img src=\"https://colab.research.google.com/assets/colab-badge.svg\" alt=\"Open In Colab\"/></a>"
      ]
    },
    {
      "cell_type": "markdown",
      "source": [
        "# Part 1"
      ],
      "metadata": {
        "id": "WijLCDOhCfP7"
      }
    },
    {
      "cell_type": "markdown",
      "source": [
        "### Task 1\n"
      ],
      "metadata": {
        "id": "gNQ7Vk_uAw-s"
      }
    },
    {
      "cell_type": "code",
      "execution_count": null,
      "metadata": {
        "id": "sAbXa-eaFTOZ"
      },
      "outputs": [],
      "source": [
        "#// Right rotation\n",
        "def playRight(s, b):\n",
        "  for i in range(len(b)):\n",
        "    if b[i] == 1:\n",
        "      temp = s[len(s)-1]\n",
        "      for j in range(len(s)-1,-1, -1):\n",
        "        s[j] = s[j-1]\n",
        "      s[0] = temp\n",
        "\n",
        "  return s"
      ]
    },
    {
      "cell_type": "code",
      "source": [
        "#Driver code\n",
        "sequence=[10,20,30,40,50,60]\n",
        "beats = [1,0,0,1,0,1]\n",
        "\n",
        "print(playRight(sequence,beats))"
      ],
      "metadata": {
        "colab": {
          "base_uri": "https://localhost:8080/"
        },
        "id": "qM7RM9rGCNfL",
        "outputId": "1035c727-3a07-4551-9783-6b0aad95ed93"
      },
      "execution_count": null,
      "outputs": [
        {
          "output_type": "stream",
          "name": "stdout",
          "text": [
            "[40, 50, 60, 10, 20, 30]\n"
          ]
        }
      ]
    },
    {
      "cell_type": "markdown",
      "source": [
        "### Task 2"
      ],
      "metadata": {
        "id": "epkX9WkqF49z"
      }
    },
    {
      "cell_type": "code",
      "source": [
        "#// Removal\n",
        "def remove(arr, idx, size):\n",
        "  for i in range(idx+1, size):\n",
        "    arr[i-1]= arr[i]\n",
        "  arr[size-1] = 0\n",
        "\n",
        "\n",
        "def discardCards(arr, n):\n",
        "  for i in range(len(arr)):\n",
        "    if arr[i] == n:\n",
        "      remove(arr, i)\n",
        "  return arr"
      ],
      "metadata": {
        "id": "g5hGjOKeHMgL"
      },
      "execution_count": null,
      "outputs": []
    },
    {
      "cell_type": "code",
      "source": [
        "#Driver code\n",
        "cards=[10,2,30,2,50,2,2,0,0]\n",
        "print(discardCards(cards,2))"
      ],
      "metadata": {
        "colab": {
          "base_uri": "https://localhost:8080/"
        },
        "id": "GIK3FNRZHTvl",
        "outputId": "d74882c0-aeef-43de-a2dd-d97bdf85a7e8"
      },
      "execution_count": null,
      "outputs": [
        {
          "output_type": "stream",
          "name": "stdout",
          "text": [
            "[10, 30, 50, 2, 0, 0, 0, 0, 0]\n"
          ]
        }
      ]
    },
    {
      "cell_type": "markdown",
      "source": [
        "### v2"
      ],
      "metadata": {
        "id": "62b2YukrNWxS"
      }
    },
    {
      "cell_type": "code",
      "source": [
        "#\n",
        "def remove(arr, idx):\n",
        "  for i in range(idx+1, len(arr)):\n",
        "    arr[i-1]= arr[i]\n",
        "  arr[len(arr)-1] = 0\n",
        "\n",
        "\n"
      ],
      "metadata": {
        "id": "KdOZp5FANYVC"
      },
      "execution_count": null,
      "outputs": []
    }
  ]
}