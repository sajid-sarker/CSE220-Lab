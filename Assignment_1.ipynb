{
  "nbformat": 4,
  "nbformat_minor": 0,
  "metadata": {
    "colab": {
      "provenance": [],
      "collapsed_sections": [
        "WijLCDOhCfP7",
        "gNQ7Vk_uAw-s",
        "epkX9WkqF49z"
      ],
      "authorship_tag": "ABX9TyNegCvAKROzDb5hClfH+2mG",
      "include_colab_link": true
    },
    "kernelspec": {
      "name": "python3",
      "display_name": "Python 3"
    },
    "language_info": {
      "name": "python"
    }
  },
  "cells": [
    {
      "cell_type": "markdown",
      "metadata": {
        "id": "view-in-github",
        "colab_type": "text"
      },
      "source": [
        "<a href=\"https://colab.research.google.com/github/sajid-sarker/CSE220-Lab/blob/main/Assignment_1.ipynb\" target=\"_parent\"><img src=\"https://colab.research.google.com/assets/colab-badge.svg\" alt=\"Open In Colab\"/></a>"
      ]
    },
    {
      "cell_type": "markdown",
      "source": [
        "# Part 1"
      ],
      "metadata": {
        "id": "WijLCDOhCfP7"
      }
    },
    {
      "cell_type": "markdown",
      "source": [
        "### Task 1\n"
      ],
      "metadata": {
        "id": "gNQ7Vk_uAw-s"
      }
    },
    {
      "cell_type": "code",
      "execution_count": null,
      "metadata": {
        "id": "sAbXa-eaFTOZ"
      },
      "outputs": [],
      "source": [
        "#// Right rotation\n",
        "def playRight(s, b):\n",
        "  for i in range(len(b)):\n",
        "    if b[i] == 1:\n",
        "      temp = s[len(s)-1]\n",
        "      for j in range(len(s)-1,-1, -1):\n",
        "        s[j] = s[j-1]\n",
        "      s[0] = temp\n",
        "\n",
        "  return s"
      ]
    },
    {
      "cell_type": "code",
      "source": [
        "#Driver code\n",
        "sequence=[10,20,30,40,50,60]\n",
        "beats = [1,0,0,1,0,1]\n",
        "\n",
        "print(playRight(sequence,beats))"
      ],
      "metadata": {
        "colab": {
          "base_uri": "https://localhost:8080/"
        },
        "id": "qM7RM9rGCNfL",
        "outputId": "1035c727-3a07-4551-9783-6b0aad95ed93"
      },
      "execution_count": null,
      "outputs": [
        {
          "output_type": "stream",
          "name": "stdout",
          "text": [
            "[40, 50, 60, 10, 20, 30]\n"
          ]
        }
      ]
    },
    {
      "cell_type": "markdown",
      "source": [
        "### Task 2"
      ],
      "metadata": {
        "id": "epkX9WkqF49z"
      }
    },
    {
      "cell_type": "code",
      "source": [
        "#// Removal\n",
        "def remove(arr, idx, ):\n",
        "  for i in range(idx+1, len(arr)):\n",
        "    arr[i-1]= arr[i]\n",
        "  arr[len(arr)-1] = 0\n",
        "\n",
        "\n",
        "def discardCards(arr, n):\n",
        "  i = 0\n",
        "  while i < len(arr):\n",
        "    if arr[i] == n:\n",
        "      remove(arr, i)\n",
        "    else: i +=1\n",
        "  return arr"
      ],
      "metadata": {
        "id": "g5hGjOKeHMgL"
      },
      "execution_count": 19,
      "outputs": []
    },
    {
      "cell_type": "code",
      "source": [
        "#Driver code\n",
        "cards=[10,2,30,2,50,2,2,0,0]\n",
        "print(discardCards(cards,2))"
      ],
      "metadata": {
        "colab": {
          "base_uri": "https://localhost:8080/"
        },
        "id": "GIK3FNRZHTvl",
        "outputId": "f95fb8ba-6d5f-4fee-c995-731f6e914a15"
      },
      "execution_count": 20,
      "outputs": [
        {
          "output_type": "stream",
          "name": "stdout",
          "text": [
            "[10, 30, 50, 0, 0, 0, 0, 0, 0]\n"
          ]
        }
      ]
    },
    {
      "cell_type": "markdown",
      "source": [
        "### Task 3"
      ],
      "metadata": {
        "id": "62b2YukrNWxS"
      }
    },
    {
      "cell_type": "code",
      "source": [],
      "metadata": {
        "id": "bXhdSXPIUVw8"
      },
      "execution_count": null,
      "outputs": []
    },
    {
      "cell_type": "markdown",
      "source": [
        "# Part 2"
      ],
      "metadata": {
        "id": "LM2wCBXgWOYv"
      }
    },
    {
      "cell_type": "code",
      "source": [
        "def mean(a):\n",
        "  varsum = 0\n",
        "  for i in range(len(a)):\n",
        "    varsum += a[i]\n",
        "\n",
        "  mean = varsum / len(a)\n",
        "  return mean\n",
        "\n",
        "def dev(a, m):\n",
        "  aux = [0]*len(a)\n",
        "  varsum = 0\n",
        "  for i in range(len(a)):\n",
        "    temp = a[i] - m\n",
        "    aux[i] = temp * temp\n",
        "    varsum += aux[i]\n",
        "\n",
        "  mean = varsum / (len(aux)-1)\n",
        "  return mean ** (0.5)\n",
        "\n",
        "def check(a):\n",
        "  aux = [0]*len(a)\n",
        "  j = 0\n",
        "  upper, lower = m1+ 1.5*sd, m1- 1.5*sd\n",
        "  for i in range(len(a)):\n",
        "    if a[i] > upper or a[i] < lower:\n",
        "      j+=1\n",
        "      aux[j] = a[i]\n",
        "  \n",
        "  newArr = [0]* j\n",
        "  k = 0\n",
        "  while k < j:    \n",
        "    for i in range(len(aux)):\n",
        "      if aux[i] != 0:\n",
        "        newArr[k] = aux[i]\n",
        "        k+=1\n",
        "  \n",
        "  return newArr"
      ],
      "metadata": {
        "id": "3HzcI92-WQjm"
      },
      "execution_count": 49,
      "outputs": []
    },
    {
      "cell_type": "code",
      "source": [
        "#Driver code\n",
        "data = [10, 8, 13, 9, 14, 25, -5, 20, 7, 7, 4]\n",
        "m1 = mean(data)\n",
        "print(m1)\n",
        "sd = dev(data, m1)\n",
        "print(sd)\n",
        "print(check(data))"
      ],
      "metadata": {
        "colab": {
          "base_uri": "https://localhost:8080/"
        },
        "id": "Ms4s9UVdWeoq",
        "outputId": "c1d5a129-7528-4cd6-fba4-b38b9a552701"
      },
      "execution_count": 50,
      "outputs": [
        {
          "output_type": "stream",
          "name": "stdout",
          "text": [
            "10.181818181818182\n",
            "7.960127911260996\n",
            "[25, -5]\n"
          ]
        }
      ]
    }
  ]
}